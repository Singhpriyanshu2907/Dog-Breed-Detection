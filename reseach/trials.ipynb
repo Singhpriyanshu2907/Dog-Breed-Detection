{
 "cells": [
  {
   "cell_type": "code",
   "execution_count": 1,
   "metadata": {},
   "outputs": [],
   "source": [
    "import requests\n",
    "import zipfile\n",
    "import os"
   ]
  },
  {
   "cell_type": "code",
   "execution_count": 2,
   "metadata": {},
   "outputs": [
    {
     "name": "stdout",
     "output_type": "stream",
     "text": [
      "Downloading dataset...\n",
      "Download complete. Extracting dataset...\n",
      "Dataset extracted to 'dataset' folder.\n",
      "ZIP file removed.\n"
     ]
    }
   ],
   "source": [
    "# Replace with your dataset's Raw URL\n",
    "url = \"https://app.roboflow.com/ds/6ZG8fHCaw6?key=n1fMl7ipej\"\n",
    "\n",
    "# Local filename to save the ZIP\n",
    "zip_file = \"dataset.zip\"\n",
    "\n",
    "try:\n",
    "    # Download the dataset\n",
    "    print(\"Downloading dataset...\")\n",
    "    response = requests.get(url, stream=True)\n",
    "    response.raise_for_status()  # Check for HTTP errors\n",
    "\n",
    "    # Write the content to a ZIP file\n",
    "    with open(zip_file, \"wb\") as f:\n",
    "        for chunk in response.iter_content(chunk_size=1024):\n",
    "            if chunk:\n",
    "                f.write(chunk)\n",
    "    \n",
    "    print(\"Download complete. Extracting dataset...\")\n",
    "\n",
    "    # Extract the ZIP file\n",
    "    with zipfile.ZipFile(zip_file, \"r\") as zip_ref:\n",
    "        zip_ref.extractall(\"./dataset\")  # Specify extract location\n",
    "\n",
    "    print(\"Dataset extracted to 'dataset' folder.\")\n",
    "\n",
    "    # Clean up the ZIP file\n",
    "    os.remove(zip_file)\n",
    "    print(\"ZIP file removed.\")\n",
    "\n",
    "except Exception as e:\n",
    "    print(f\"An error occurred: {e}\")\n"
   ]
  },
  {
   "cell_type": "code",
   "execution_count": null,
   "metadata": {},
   "outputs": [],
   "source": [
    "## For cloning YoloV5 repo\n"
   ]
  }
 ],
 "metadata": {
  "kernelspec": {
   "display_name": "objdtc",
   "language": "python",
   "name": "python3"
  },
  "language_info": {
   "codemirror_mode": {
    "name": "ipython",
    "version": 3
   },
   "file_extension": ".py",
   "mimetype": "text/x-python",
   "name": "python",
   "nbconvert_exporter": "python",
   "pygments_lexer": "ipython3",
   "version": "3.7.16"
  }
 },
 "nbformat": 4,
 "nbformat_minor": 2
}
